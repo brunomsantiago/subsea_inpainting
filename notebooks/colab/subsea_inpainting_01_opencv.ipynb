{
  "nbformat": 4,
  "nbformat_minor": 0,
  "metadata": {
    "kernelspec": {
      "display_name": "Python 3",
      "language": "python",
      "name": "python3"
    },
    "language_info": {
      "codemirror_mode": {
        "name": "ipython",
        "version": 3
      },
      "file_extension": ".py",
      "mimetype": "text/x-python",
      "name": "python",
      "nbconvert_exporter": "python",
      "pygments_lexer": "ipython3",
      "version": "3.7.4"
    },
    "colab": {
      "name": "subsea-inpainting-01-opencv.ipynb",
      "provenance": [],
      "collapsed_sections": []
    }
  },
  "cells": [
    {
      "cell_type": "markdown",
      "metadata": {
        "id": "AmJg_MqKp6og"
      },
      "source": [
        "# Subsea Inpanting using OpenCV\n",
        " - It will be necessary to allow Internet Access at the Kaggle notebook settings"
      ]
    },
    {
      "cell_type": "markdown",
      "metadata": {
        "id": "7jI8w9pap6op"
      },
      "source": [
        "# 1. Setup"
      ]
    },
    {
      "cell_type": "markdown",
      "metadata": {
        "id": "1iaKiqnUuWf0"
      },
      "source": [
        "## 1.1. Mount your google drive"
      ]
    },
    {
      "cell_type": "code",
      "metadata": {
        "id": "shCkQjhuuWAC"
      },
      "source": [
        "from google.colab import drive\n",
        "drive.mount('/content/drive')"
      ],
      "execution_count": null,
      "outputs": []
    },
    {
      "cell_type": "markdown",
      "metadata": {
        "id": "J5iOptTJqA0-"
      },
      "source": [
        "## 1.2. Download the dataset and upload to you google drive\n",
        "- You will have to manually download the 300 mb zip from [my google drive](https://drive.google.com/file/d/1sTC4ELGfw1BMeHkhDVB8Kv3yHn-GJWVv/view?usp=sharing) or from [kaggle datasets](https://www.kaggle.com/brunomsantiago/subsea-inpainting-dataset). Save the zip file at your google drive root.\n",
        "- Unizp the dataset\n",
        "- You have to unzip this only once, therefore the cell bellow is commented by default"
      ]
    },
    {
      "cell_type": "code",
      "metadata": {
        "id": "dZWNnJTMseBH"
      },
      "source": [
        "# %%bash\n",
        "# cd drive/MyDrive\n",
        "# unzip subsea_inpainting_dataset.zip -d subsea_inpainting_dataset"
      ],
      "execution_count": null,
      "outputs": []
    },
    {
      "cell_type": "markdown",
      "metadata": {
        "id": "BEzCsCDNp6oq"
      },
      "source": [
        "## 1.3. Install [viajen](https://github.com/brunomsantiago/viajen) for animation visualization"
      ]
    },
    {
      "cell_type": "code",
      "metadata": {
        "id": "IMMOCkp0p6os"
      },
      "source": [
        "!pip install viajen"
      ],
      "execution_count": null,
      "outputs": []
    },
    {
      "cell_type": "markdown",
      "metadata": {
        "id": "Tkz5gL-mp6os"
      },
      "source": [
        "## 1.4. Imports"
      ]
    },
    {
      "cell_type": "code",
      "metadata": {
        "id": "3FT2lGLdp6ot"
      },
      "source": [
        "# Standard Library imports\n",
        "from pathlib import Path\n",
        "import time\n",
        "\n",
        "# Third party imports\n",
        "import cv2\n",
        "from IPython.core.display import HTML\n",
        "import numpy as np\n",
        "from PIL import Image\n",
        "from viajen import animate"
      ],
      "execution_count": null,
      "outputs": []
    },
    {
      "cell_type": "markdown",
      "metadata": {
        "id": "BN8rzXucp6ou"
      },
      "source": [
        "# 2. Frames to be inpainted (+ masks)"
      ]
    },
    {
      "cell_type": "markdown",
      "metadata": {
        "id": "-7Puswvrp6ou"
      },
      "source": [
        "## 2.1. Select clip to work with"
      ]
    },
    {
      "cell_type": "code",
      "metadata": {
        "id": "weGWRpzyp6ov"
      },
      "source": [
        "data_name = '01a'\n",
        "# data_name = '01b'\n",
        "# data_name = '01c'\n",
        "# data_name = '02a'\n",
        "# data_name = '03a'\n",
        "# data_name = '03b'\n",
        "# data_name = '04a'\n",
        "# data_name = '05a'\n",
        "# data_name = '05b'\n",
        "# data_name = '05c'\n",
        "# data_name = '05d'\n",
        "# data_name = '05e'\n",
        "# data_name = '05f'"
      ],
      "execution_count": null,
      "outputs": []
    },
    {
      "cell_type": "markdown",
      "metadata": {
        "id": "dl_t0FMxp6ov"
      },
      "source": [
        "## 2.2. Mount folders"
      ]
    },
    {
      "cell_type": "code",
      "metadata": {
        "id": "yGHvGCJMp6ow"
      },
      "source": [
        "base_input_folder = '/content/drive/MyDrive/subsea_inpainting_dataset/'\n",
        "base_output_folder = '/content/drive/MyDrive/subsea_inpainting_results/'\n",
        "\n",
        "frames_folder = Path(base_input_folder) / 'prepared_images' / data_name / 'frames'\n",
        "masks_folder = Path(base_input_folder) / 'prepared_images' / data_name / 'masks'\n",
        "\n",
        "results_folder = Path(base_output_folder) / 'results'/ 'opencv' / data_name"
      ],
      "execution_count": null,
      "outputs": []
    },
    {
      "cell_type": "markdown",
      "metadata": {
        "id": "UXS9Vt3Wp6ox"
      },
      "source": [
        "## 2.3. View clip"
      ]
    },
    {
      "cell_type": "code",
      "metadata": {
        "id": "ilyMTVFtp6oy"
      },
      "source": [
        "animate.folder(frames_folder, max_height=200)"
      ],
      "execution_count": null,
      "outputs": []
    },
    {
      "cell_type": "code",
      "metadata": {
        "id": "O3_OGEIup6oy"
      },
      "source": [
        "animate.folder(masks_folder, max_height=200)"
      ],
      "execution_count": null,
      "outputs": []
    },
    {
      "cell_type": "markdown",
      "metadata": {
        "id": "wUw4nD1tp6oz"
      },
      "source": [
        "# 3. Inpaiting"
      ]
    },
    {
      "cell_type": "markdown",
      "metadata": {
        "id": "iC6OBAKpp6oz"
      },
      "source": [
        "## 3.1. Function to inpaint with OpenCV"
      ]
    },
    {
      "cell_type": "code",
      "metadata": {
        "id": "W1ImRTcrp6oz"
      },
      "source": [
        "def inpaint_opencv(frames_folder, masks_folder, out_folder):\n",
        "    start_time = time.time()    \n",
        "    frames_files = sorted(Path(frames_folder).glob('*.png'))\n",
        "    masks_files = sorted(Path(masks_folder).glob('*.png'))\n",
        "    out_folder.mkdir(parents=True, exist_ok=True)\n",
        "    for frame_file, mask_file in zip(frames_files, masks_files):\n",
        "        frame = cv2.imread(frame_file.as_posix())\n",
        "        mask = cv2.imread(mask_file.as_posix())\n",
        "        mask = cv2.cvtColor(mask, cv2.COLOR_BGR2GRAY)\n",
        "        inpainted_frame = cv2.inpaint(frame, mask, 3, cv2.INPAINT_NS)\n",
        "        inpainted_frame = np.uint8(inpainted_frame)\n",
        "        inpainted_frame = inpainted_frame[:, :, ::-1].copy()\n",
        "        filepath = out_folder/ frame_file.name\n",
        "        Image.fromarray(inpainted_frame).save(filepath)\n",
        "    return time.time() - start_time"
      ],
      "execution_count": null,
      "outputs": []
    },
    {
      "cell_type": "markdown",
      "metadata": {
        "id": "np-TPp1PxqNu"
      },
      "source": [
        "## 3.2. Execute inpainting"
      ]
    },
    {
      "cell_type": "code",
      "metadata": {
        "id": "_SxSbsPFp6o0"
      },
      "source": [
        "execution_time = inpaint_opencv(frames_folder, masks_folder, results_folder)\n",
        "print(f'--- Execution time: {execution_time:.2f} seconds ---')"
      ],
      "execution_count": null,
      "outputs": []
    },
    {
      "cell_type": "markdown",
      "metadata": {
        "id": "esST3Azkp6o0"
      },
      "source": [
        "# 4. Show results"
      ]
    },
    {
      "cell_type": "code",
      "metadata": {
        "id": "5JElztqYp6o0"
      },
      "source": [
        "display(HTML('<h2>Original Frames<h2>'))\n",
        "display(animate.folder(frames_folder))\n",
        "\n",
        "display(HTML(f'<br><br><h2>Inpainted Frames ({execution_time:.1f} seconds processing)<h2>'))\n",
        "display(animate.folder(results_folder))"
      ],
      "execution_count": null,
      "outputs": []
    }
  ]
}