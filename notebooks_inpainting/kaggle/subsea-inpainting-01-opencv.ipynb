{
 "cells": [
  {
   "cell_type": "markdown",
   "metadata": {},
   "source": [
    "# Subsea Inpanting using OpenCV\n",
    " - It will be necessary to allow Internet Access at the Kaggle notebook settings"
   ]
  },
  {
   "cell_type": "markdown",
   "metadata": {},
   "source": [
    "# 1. Setup"
   ]
  },
  {
   "cell_type": "markdown",
   "metadata": {},
   "source": [
    "## 1.1. Install [viajen](https://github.com/brunomsantiago/viajen) for animation visualization"
   ]
  },
  {
   "cell_type": "code",
   "execution_count": null,
   "metadata": {},
   "outputs": [],
   "source": [
    "!pip install viajen"
   ]
  },
  {
   "cell_type": "markdown",
   "metadata": {},
   "source": [
    "## 1.2. Imports"
   ]
  },
  {
   "cell_type": "code",
   "execution_count": null,
   "metadata": {},
   "outputs": [],
   "source": [
    "# Standard Library imports\n",
    "from pathlib import Path\n",
    "import time\n",
    "\n",
    "# Third party imports\n",
    "import cv2\n",
    "from IPython.core.display import HTML\n",
    "import numpy as np\n",
    "from PIL import Image\n",
    "from viajen import animate"
   ]
  },
  {
   "cell_type": "markdown",
   "metadata": {},
   "source": [
    "# 2. Frames to be inpainted (+ masks)"
   ]
  },
  {
   "cell_type": "markdown",
   "metadata": {},
   "source": [
    "## 2.1. Select clip to work with"
   ]
  },
  {
   "cell_type": "code",
   "execution_count": null,
   "metadata": {},
   "outputs": [],
   "source": [
    "data_name = '01a'\n",
    "# data_name = '01b'\n",
    "# data_name = '01c'\n",
    "# data_name = '02a'\n",
    "# data_name = '03a'\n",
    "# data_name = '03b'\n",
    "# data_name = '04a'\n",
    "# data_name = '05a'\n",
    "# data_name = '05b'\n",
    "# data_name = '05c'\n",
    "# data_name = '05d'\n",
    "# data_name = '05e'\n",
    "# data_name = '05f'"
   ]
  },
  {
   "cell_type": "markdown",
   "metadata": {},
   "source": [
    "## 2.2. Mount folders"
   ]
  },
  {
   "cell_type": "code",
   "execution_count": null,
   "metadata": {},
   "outputs": [],
   "source": [
    "base_input_folder = '../input/subsea-inpainting-dataset/'\n",
    "base_output_folder = './'\n",
    "\n",
    "frames_folder = Path(base_input_folder) / 'prepared_images' / data_name / 'frames'\n",
    "masks_folder = Path(base_input_folder) / 'prepared_images' / data_name / 'masks'\n",
    "\n",
    "results_folder = Path(base_output_folder) / 'results'/ 'opencv' / data_name"
   ]
  },
  {
   "cell_type": "markdown",
   "metadata": {},
   "source": [
    "## 2.3. View clip"
   ]
  },
  {
   "cell_type": "code",
   "execution_count": null,
   "metadata": {},
   "outputs": [],
   "source": [
    "animate.folder(frames_folder, max_height=200)"
   ]
  },
  {
   "cell_type": "code",
   "execution_count": null,
   "metadata": {},
   "outputs": [],
   "source": [
    "animate.folder(masks_folder, max_height=200)"
   ]
  },
  {
   "cell_type": "markdown",
   "metadata": {},
   "source": [
    "# 3. Inpaiting"
   ]
  },
  {
   "cell_type": "markdown",
   "metadata": {},
   "source": [
    "## 3.1. Function to inpaint with OpenCV"
   ]
  },
  {
   "cell_type": "code",
   "execution_count": null,
   "metadata": {},
   "outputs": [],
   "source": [
    "def inpaint_opencv(frames_folder, masks_folder, out_folder):\n",
    "    start_time = time.time()    \n",
    "    frames_files = sorted(Path(frames_folder).glob('*.png'))\n",
    "    masks_files = sorted(Path(masks_folder).glob('*.png'))\n",
    "    out_folder.mkdir(parents=True, exist_ok=True)\n",
    "    for frame_file, mask_file in zip(frames_files, masks_files):\n",
    "        frame = cv2.imread(frame_file.as_posix())\n",
    "        mask = cv2.imread(mask_file.as_posix())\n",
    "        mask = cv2.cvtColor(mask, cv2.COLOR_BGR2GRAY)\n",
    "        inpainted_frame = cv2.inpaint(frame, mask, 3, cv2.INPAINT_NS)\n",
    "        inpainted_frame = np.uint8(inpainted_frame)\n",
    "        inpainted_frame = inpainted_frame[:, :, ::-1].copy()\n",
    "        filepath = out_folder/ frame_file.name\n",
    "        Image.fromarray(inpainted_frame).save(filepath)\n",
    "    return time.time() - start_time"
   ]
  },
  {
   "cell_type": "code",
   "execution_count": null,
   "metadata": {},
   "outputs": [],
   "source": [
    "execution_time = inpaint_opencv(frames_folder, masks_folder, results_folder)\n",
    "print(f'--- Execution time: {execution_time:.2f} seconds ---')"
   ]
  },
  {
   "cell_type": "markdown",
   "metadata": {},
   "source": [
    "# 4. Show results"
   ]
  },
  {
   "cell_type": "code",
   "execution_count": null,
   "metadata": {},
   "outputs": [],
   "source": [
    "display(HTML('<h2>Original Frames<h2>'))\n",
    "display(animate.folder(frames_folder))\n",
    "\n",
    "display(HTML(f'<br><br><h2>Inpainted Frames ({execution_time:.1f} seconds processing)<h2>'))\n",
    "display(animate.folder(results_folder))"
   ]
  }
 ],
 "metadata": {
  "kernelspec": {
   "display_name": "Python 3",
   "language": "python",
   "name": "python3"
  },
  "language_info": {
   "codemirror_mode": {
    "name": "ipython",
    "version": 3
   },
   "file_extension": ".py",
   "mimetype": "text/x-python",
   "name": "python",
   "nbconvert_exporter": "python",
   "pygments_lexer": "ipython3",
   "version": "3.7.4"
  }
 },
 "nbformat": 4,
 "nbformat_minor": 4
}
