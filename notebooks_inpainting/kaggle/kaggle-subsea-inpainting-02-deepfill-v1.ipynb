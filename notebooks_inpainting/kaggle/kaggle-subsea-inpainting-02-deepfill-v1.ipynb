{
 "cells": [
  {
   "cell_type": "markdown",
   "metadata": {},
   "source": [
    "# Subsea Inpanting using Deepfill v1 ([paper](https://arxiv.org/abs/1801.07892), [code](https://github.com/JiahuiYu/generative_inpainting/tree/v1.0.0))\n",
    " - It will be necessary to allow Internet Access at the Kaggle notebook settings\n",
    " - It will be necessary to activate GPU accelerator at the Kaggle notebook settings "
   ]
  },
  {
   "cell_type": "markdown",
   "metadata": {},
   "source": [
    "# 1. Setup"
   ]
  },
  {
   "cell_type": "markdown",
   "metadata": {},
   "source": [
    "## 1.1. Install [viajen](https://github.com/brunomsantiago/viajen) for animation visualization"
   ]
  },
  {
   "cell_type": "code",
   "execution_count": null,
   "metadata": {
    "_cell_guid": "b1076dfc-b9ad-4769-8c92-a6c4dae69d19",
    "_uuid": "8f2839f25d086af736a60e9eeb907d3b93b6e0e5"
   },
   "outputs": [],
   "source": [
    "!pip install viajen"
   ]
  },
  {
   "cell_type": "markdown",
   "metadata": {},
   "source": [
    "## 1.2. Download deepfill code and models from [subsea inpainting repository](https://github.com/brunomsantiago/subsea_inpainting)"
   ]
  },
  {
   "cell_type": "code",
   "execution_count": null,
   "metadata": {},
   "outputs": [],
   "source": [
    "!git clone https://github.com/brunomsantiago/subsea_inpainting --branch models"
   ]
  },
  {
   "cell_type": "markdown",
   "metadata": {},
   "source": [
    "## 1.3. Normal imports"
   ]
  },
  {
   "cell_type": "code",
   "execution_count": null,
   "metadata": {},
   "outputs": [],
   "source": [
    "# Standard Library imports\n",
    "from pathlib import Path\n",
    "import time\n",
    "import sys\n",
    "\n",
    "# Third party imports\n",
    "import cv2\n",
    "from IPython.core.display import HTML\n",
    "import numpy as np\n",
    "from PIL import Image\n",
    "from viajen import animate"
   ]
  },
  {
   "cell_type": "markdown",
   "metadata": {},
   "source": [
    "## 1.4 Local import (non-installed module)"
   ]
  },
  {
   "cell_type": "code",
   "execution_count": null,
   "metadata": {},
   "outputs": [],
   "source": [
    "sys.path.insert(1, './subsea_inpainting/code/FGVC/tool')\n",
    "from frame_inpaint import DeepFillv1"
   ]
  },
  {
   "cell_type": "markdown",
   "metadata": {},
   "source": [
    "# 2. Frames to be inpainted (+ masks)"
   ]
  },
  {
   "cell_type": "markdown",
   "metadata": {},
   "source": [
    "## 2.1. Select clip to work with"
   ]
  },
  {
   "cell_type": "code",
   "execution_count": null,
   "metadata": {},
   "outputs": [],
   "source": [
    "data_name = '01a'\n",
    "# data_name = '01b'\n",
    "# data_name = '01c'\n",
    "# data_name = '02a'\n",
    "# data_name = '03a'\n",
    "# data_name = '03b'\n",
    "# data_name = '04a'\n",
    "# data_name = '05a'\n",
    "# data_name = '05b'\n",
    "# data_name = '05c'\n",
    "# data_name = '05d'\n",
    "# data_name = '05e'\n",
    "# data_name = '05f'"
   ]
  },
  {
   "cell_type": "markdown",
   "metadata": {},
   "source": [
    "## 2.2. Mount folders"
   ]
  },
  {
   "cell_type": "code",
   "execution_count": null,
   "metadata": {},
   "outputs": [],
   "source": [
    "base_input_folder = '../input/subsea-inpainting-dataset/'\n",
    "base_output_folder = './'\n",
    "\n",
    "frames_folder = Path(base_input_folder) / 'prepared_images' / data_name / 'frames'\n",
    "masks_folder = Path(base_input_folder) / 'prepared_images' / data_name / 'masks'\n",
    "\n",
    "results_folder = Path(base_output_folder) / 'results'/ 'deepfiil' / data_name"
   ]
  },
  {
   "cell_type": "markdown",
   "metadata": {},
   "source": [
    "## 2.3. View clip"
   ]
  },
  {
   "cell_type": "code",
   "execution_count": null,
   "metadata": {},
   "outputs": [],
   "source": [
    "animate.folder(frames_folder, max_height=200)"
   ]
  },
  {
   "cell_type": "code",
   "execution_count": null,
   "metadata": {},
   "outputs": [],
   "source": [
    "animate.folder(masks_folder, max_height=200)"
   ]
  },
  {
   "cell_type": "markdown",
   "metadata": {},
   "source": [
    "# 3. Inpaiting"
   ]
  },
  {
   "cell_type": "markdown",
   "metadata": {},
   "source": [
    "## 3.1 Weights locations"
   ]
  },
  {
   "cell_type": "code",
   "execution_count": null,
   "metadata": {},
   "outputs": [],
   "source": [
    "deepfill_weights = './subsea_inpainting/models_weights/fgvc/imagenet_deepfill.pth'"
   ]
  },
  {
   "cell_type": "markdown",
   "metadata": {},
   "source": [
    "## 3.2. Function to apply inpainting"
   ]
  },
  {
   "cell_type": "code",
   "execution_count": null,
   "metadata": {},
   "outputs": [],
   "source": [
    "def inpaint_deepfill(frames_folder, masks_folder, out_folder, model_path):\n",
    "    start_time = time.time()     \n",
    "    frames_files = sorted(Path(frames_folder).glob('*.png'))\n",
    "    masks_files = sorted(Path(masks_folder).glob('*.png'))\n",
    "    first_frame = Image.open(frames_files[0])\n",
    "    deepfill = DeepFillv1(pretrained_model=model_path,\n",
    "                          image_shape=[first_frame.height, first_frame.width]) \n",
    "    out_folder.mkdir(parents=True, exist_ok=True)\n",
    "    for frame_file, mask_file in zip(frames_files, masks_files):\n",
    "        pil_frame = Image.open(frame_file).convert('RGB') \n",
    "        frame = np.array(pil_frame) \n",
    "        frame = frame[:, :, ::-1].copy()\n",
    "        mask = np.array(Image.open(mask_file))\n",
    "        inpainted_frame = deepfill.forward(frame, mask)\n",
    "        inpainted_frame = np.uint8(inpainted_frame)\n",
    "        inpainted_frame = inpainted_frame[:, :, ::-1].copy()\n",
    "        filepath = out_folder / frame_file.name\n",
    "        Image.fromarray(inpainted_frame).save(filepath)\n",
    "    return time.time() - start_time"
   ]
  },
  {
   "cell_type": "markdown",
   "metadata": {},
   "source": [
    "## 3.3 Execute inpainting"
   ]
  },
  {
   "cell_type": "code",
   "execution_count": null,
   "metadata": {},
   "outputs": [],
   "source": [
    "execution_time = inpaint_deepfill(frames_folder,\n",
    "                                  masks_folder,\n",
    "                                  results_folder,\n",
    "                                  deepfill_weights)\n",
    "\n",
    "print(f'\\n\\n--- Execution time: {execution_time:.2f} seconds ---')"
   ]
  },
  {
   "cell_type": "markdown",
   "metadata": {},
   "source": [
    "# 4. Show results"
   ]
  },
  {
   "cell_type": "code",
   "execution_count": null,
   "metadata": {},
   "outputs": [],
   "source": [
    "display(HTML('<h2>Original Frames<h2>'))\n",
    "display(animate.folder(frames_folder))\n",
    "\n",
    "display(HTML(f'<br><br><h2>Inpainted Frames ({execution_time:.1f} seconds processing)<h2>'))\n",
    "display(animate.folder(results_folder))"
   ]
  }
 ],
 "metadata": {
  "kernelspec": {
   "display_name": "Python 3",
   "language": "python",
   "name": "python3"
  },
  "language_info": {
   "codemirror_mode": {
    "name": "ipython",
    "version": 3
   },
   "file_extension": ".py",
   "mimetype": "text/x-python",
   "name": "python",
   "nbconvert_exporter": "python",
   "pygments_lexer": "ipython3",
   "version": "3.7.4"
  }
 },
 "nbformat": 4,
 "nbformat_minor": 4
}
