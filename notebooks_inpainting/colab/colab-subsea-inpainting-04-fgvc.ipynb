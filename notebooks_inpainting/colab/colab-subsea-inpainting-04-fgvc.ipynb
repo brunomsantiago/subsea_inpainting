{
 "cells": [
  {
   "cell_type": "markdown",
   "metadata": {
    "id": "AmJg_MqKp6og"
   },
   "source": [
    "# Subsea Inpanting using FGVC ([paper](https://arxiv.org/abs/2009.01835), [code](https://github.com/vt-vl-lab/FGVC))\n",
    " - Necessary to enable GPU. Menu options −> Runtime -> Change runtime type"
   ]
  },
  {
   "cell_type": "markdown",
   "metadata": {
    "id": "7jI8w9pap6op"
   },
   "source": [
    "# 1. Setup"
   ]
  },
  {
   "cell_type": "markdown",
   "metadata": {
    "id": "1iaKiqnUuWf0"
   },
   "source": [
    "## 1.1. Mount your google drive"
   ]
  },
  {
   "cell_type": "code",
   "execution_count": null,
   "metadata": {
    "id": "shCkQjhuuWAC"
   },
   "outputs": [],
   "source": [
    "from google.colab import drive\n",
    "drive.mount('/content/drive')"
   ]
  },
  {
   "cell_type": "markdown",
   "metadata": {
    "id": "J5iOptTJqA0-"
   },
   "source": [
    "## 1.2. Link the dataset to your google drive\n",
    "- You can link from [my google drive](https://drive.google.com/file/d/1OaTLKxkgKlAXMD4PFeHu4YxVVR_nqrkL/view?usp=sharing)\n",
    "  - Or you can manually download the zip from google drive (or from [kaggle datasets](https://www.kaggle.com/brunomsantiago/subsea-inpainting-dataset)) and then upload to your google drive.\n",
    "  - In both cases the zip should be be at your google drive root.\n",
    "- Unizp the dataset using the commented code below\n",
    "- You have to unzip this only once, therefore the cell bellow is commented by default"
   ]
  },
  {
   "cell_type": "code",
   "execution_count": null,
   "metadata": {
    "id": "dZWNnJTMseBH"
   },
   "outputs": [],
   "source": [
    "# %%bash\n",
    "# cd drive/MyDrive\n",
    "# mkdir subsea_inpainting\n",
    "# unzip subsea_inpainting_dataset.zip -d subsea_inpainting/dataset"
   ]
  },
  {
   "cell_type": "markdown",
   "metadata": {
    "id": "BEzCsCDNp6oq"
   },
   "source": [
    "## 1.3. Install [viajen](https://github.com/brunomsantiago/viajen) for animation visualization"
   ]
  },
  {
   "cell_type": "code",
   "execution_count": null,
   "metadata": {
    "id": "IMMOCkp0p6os"
   },
   "outputs": [],
   "source": [
    "!pip install viajen"
   ]
  },
  {
   "cell_type": "markdown",
   "metadata": {},
   "source": [
    "## 1.4. Download deepfill code and models from [subsea inpainting repository](https://github.com/brunomsantiago/subsea_inpainting)\n",
    "- You have to download this only once, therefore the cell bellow is commented by default"
   ]
  },
  {
   "cell_type": "code",
   "execution_count": null,
   "metadata": {},
   "outputs": [],
   "source": [
    "# %%bash\n",
    "# cd drive/MyDrive/subsea_inpainting\n",
    "# git clone https://github.com/brunomsantiago/subsea_inpainting --branch models"
   ]
  },
  {
   "cell_type": "markdown",
   "metadata": {
    "id": "Tkz5gL-mp6os"
   },
   "source": [
    "## 1.5. Normal imports"
   ]
  },
  {
   "cell_type": "code",
   "execution_count": null,
   "metadata": {
    "id": "3FT2lGLdp6ot"
   },
   "outputs": [],
   "source": [
    "# Standard Library imports\n",
    "from pathlib import Path\n",
    "import sys\n",
    "import time\n",
    "\n",
    "# Third party imports\n",
    "import cv2\n",
    "from IPython.core.display import HTML\n",
    "import numpy as np\n",
    "from PIL import Image\n",
    "from viajen import animate"
   ]
  },
  {
   "cell_type": "markdown",
   "metadata": {},
   "source": [
    "## 1.6 Local import (non-installed module)"
   ]
  },
  {
   "cell_type": "code",
   "execution_count": null,
   "metadata": {},
   "outputs": [],
   "source": [
    "base_models_folder = Path('/content/drive/MyDrive/subsea_inpainting/subsea_inpainting')\n",
    "model_code_folder = base_models_folder / 'code' / 'FGVC' / 'tool'\n",
    "sys.path.insert(1, model_code_folder.as_posix())\n",
    "from video_completion import video_completion_seamless"
   ]
  },
  {
   "cell_type": "markdown",
   "metadata": {},
   "source": [
    "## 1.7. Custom dictionary to emulate argparse results"
   ]
  },
  {
   "cell_type": "code",
   "execution_count": null,
   "metadata": {},
   "outputs": [],
   "source": [
    "class AttributeDict(dict):\n",
    "    '''\n",
    "    Dict which keys can be accessed like a normal dict:\n",
    "        my_dict['key']\n",
    "    or like a class:\n",
    "        my_dict.key\n",
    "    Useful to mimic the behaviour of argparse results\n",
    "    '''\n",
    "    def __getattr__(self, attr):\n",
    "        return self[attr]\n",
    "    def __setattr__(self, attr, value):\n",
    "        self[attr] = value\n",
    "    def _get_kwargs(self):\n",
    "        return sorted(self.__dict__.items())"
   ]
  },
  {
   "cell_type": "markdown",
   "metadata": {
    "id": "BN8rzXucp6ou"
   },
   "source": [
    "# 2. Frames to be inpainted (+ masks)"
   ]
  },
  {
   "cell_type": "markdown",
   "metadata": {
    "id": "-7Puswvrp6ou"
   },
   "source": [
    "## 2.1. Select clip to work with"
   ]
  },
  {
   "cell_type": "code",
   "execution_count": null,
   "metadata": {
    "id": "weGWRpzyp6ov"
   },
   "outputs": [],
   "source": [
    "data_name = '01a'\n",
    "# data_name = '01b'\n",
    "# data_name = '01c'\n",
    "# data_name = '02a'\n",
    "# data_name = '03a'\n",
    "# data_name = '03b'\n",
    "# data_name = '04a'\n",
    "# data_name = '05a'\n",
    "# data_name = '05b'\n",
    "# data_name = '05c'\n",
    "# data_name = '05d'\n",
    "# data_name = '05e'\n",
    "# data_name = '05f'"
   ]
  },
  {
   "cell_type": "markdown",
   "metadata": {
    "id": "dl_t0FMxp6ov"
   },
   "source": [
    "## 2.2. Mount folders"
   ]
  },
  {
   "cell_type": "code",
   "execution_count": null,
   "metadata": {
    "id": "yGHvGCJMp6ow"
   },
   "outputs": [],
   "source": [
    "method = 'fgvc'\n",
    "base_input_folder = '/content/drive/MyDrive/subsea_inpainting/dataset'\n",
    "base_output_folder = '/content/drive/MyDrive/subsea_inpainting/results/static'\n",
    "\n",
    "frames_folder = Path(base_input_folder) / 'prepared_images' / data_name / 'frames'\n",
    "masks_folder = Path(base_input_folder) / 'prepared_images' / data_name / 'masks'\n",
    "\n",
    "results_folder = Path(base_output_folder) / data_name / method"
   ]
  },
  {
   "cell_type": "markdown",
   "metadata": {
    "id": "UXS9Vt3Wp6ox"
   },
   "source": [
    "## 2.3. View clip"
   ]
  },
  {
   "cell_type": "code",
   "execution_count": null,
   "metadata": {
    "id": "ilyMTVFtp6oy"
   },
   "outputs": [],
   "source": [
    "animate.folder(frames_folder, max_height=200)"
   ]
  },
  {
   "cell_type": "code",
   "execution_count": null,
   "metadata": {
    "id": "O3_OGEIup6oy"
   },
   "outputs": [],
   "source": [
    "animate.folder(masks_folder, max_height=200)"
   ]
  },
  {
   "cell_type": "markdown",
   "metadata": {
    "id": "wUw4nD1tp6oz"
   },
   "source": [
    "# 3. Inpaiting"
   ]
  },
  {
   "cell_type": "markdown",
   "metadata": {},
   "source": [
    "### 3.1. Args for video completion"
   ]
  },
  {
   "cell_type": "code",
   "execution_count": null,
   "metadata": {},
   "outputs": [],
   "source": [
    "raft_weights = base_models_folder / 'models_weights' / 'fgvc' / 'raft-things.pth'\n",
    "deepfill_weights = base_models_folder / 'models_weights' / 'fgvc' / 'imagenet_deepfill.pth'\n",
    "edge_completion_weights = base_models_folder / 'models_weights' / 'fgvc' / 'edge_completion.pth'\n",
    "\n",
    "args = AttributeDict()\n",
    "# Video completion\n",
    "args['seamless'] = True\n",
    "args['edge_guide'] = False\n",
    "args['mode'] = 'object_removal'\n",
    "args['path'] = frames_folder\n",
    "args['path_mask'] = masks_folder\n",
    "args['outroot'] = results_folder\n",
    "args['consistencyThres'] = np.inf\n",
    "args['alpha'] = 0.1\n",
    "args['Nonlocal'] = False\n",
    "# RAFT\n",
    "args['model'] = raft_weights.as_posix()\n",
    "args['small'] = False\n",
    "args['mixed_precision'] = False\n",
    "args['alternate_corr'] = False\n",
    "# Deepfill\n",
    "args['deepfill_model'] = deepfill_weights.as_posix()\n",
    "# Edge completion\n",
    "args['edge_completion_model'] = edge_completion_weights.as_posix()"
   ]
  },
  {
   "cell_type": "markdown",
   "metadata": {
    "id": "iC6OBAKpp6oz"
   },
   "source": [
    "## 3.2. Function to apply inpainting"
   ]
  },
  {
   "cell_type": "code",
   "execution_count": null,
   "metadata": {
    "id": "W1ImRTcrp6oz"
   },
   "outputs": [],
   "source": [
    "def inpaint_fgvc(args):\n",
    "    start_time = time.time()     \n",
    "    video_completion_seamless(args)\n",
    "    return time.time() - start_time"
   ]
  },
  {
   "cell_type": "markdown",
   "metadata": {
    "id": "np-TPp1PxqNu"
   },
   "source": [
    "## 3.3. Execute inpainting"
   ]
  },
  {
   "cell_type": "code",
   "execution_count": null,
   "metadata": {
    "id": "_SxSbsPFp6o0"
   },
   "outputs": [],
   "source": [
    "execution_time = inpaint_fgvc(args)\n",
    "print(f'\\n\\n--- Execution time: {execution_time:.2f} seconds ---')"
   ]
  },
  {
   "cell_type": "markdown",
   "metadata": {
    "id": "esST3Azkp6o0"
   },
   "source": [
    "# 4. Show results"
   ]
  },
  {
   "cell_type": "code",
   "execution_count": null,
   "metadata": {
    "id": "5JElztqYp6o0"
   },
   "outputs": [],
   "source": [
    "display(HTML('<h2>Original Frames<h2>'))\n",
    "display(animate.folder(frames_folder))\n",
    "\n",
    "display(HTML(f'<br><br><h2>Inpainted Frames ({execution_time:.1f} seconds processing)<h2>'))\n",
    "display(animate.folder(results_folder / 'frame_seamless_comp_final'))"
   ]
  }
 ],
 "metadata": {
  "colab": {
   "collapsed_sections": [],
   "name": "colab-subsea-inpainting-04-fgvc.ipynb",
   "provenance": []
  },
  "kernelspec": {
   "display_name": "Python 3",
   "language": "python",
   "name": "python3"
  },
  "language_info": {
   "codemirror_mode": {
    "name": "ipython",
    "version": 3
   },
   "file_extension": ".py",
   "mimetype": "text/x-python",
   "name": "python",
   "nbconvert_exporter": "python",
   "pygments_lexer": "ipython3",
   "version": "3.7.4"
  }
 },
 "nbformat": 4,
 "nbformat_minor": 1
}
