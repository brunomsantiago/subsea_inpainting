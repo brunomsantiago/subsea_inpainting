{
 "cells": [
  {
   "cell_type": "markdown",
   "metadata": {
    "id": "AmJg_MqKp6og"
   },
   "source": [
    "# Subsea Inpanting using Hifill ([paper](https://arxiv.org/abs/2005.09704), [code](https://github.com/Atlas200dk/sample-imageinpainting-HiFill))\n",
    "  - It is recommended to activate GPU. Menu options −> Runtime -> Change runtime type"
   ]
  },
  {
   "cell_type": "markdown",
   "metadata": {
    "id": "7jI8w9pap6op"
   },
   "source": [
    "# 1. Setup"
   ]
  },
  {
   "cell_type": "markdown",
   "metadata": {
    "id": "1iaKiqnUuWf0"
   },
   "source": [
    "## 1.1. Mount your google drive"
   ]
  },
  {
   "cell_type": "code",
   "execution_count": null,
   "metadata": {
    "id": "shCkQjhuuWAC"
   },
   "outputs": [],
   "source": [
    "from google.colab import drive\n",
    "drive.mount('/content/drive')"
   ]
  },
  {
   "cell_type": "markdown",
   "metadata": {
    "id": "J5iOptTJqA0-"
   },
   "source": [
    "## 1.2. Link the dataset to your google drive\n",
    "- You can link from [my google drive](https://drive.google.com/file/d/1OaTLKxkgKlAXMD4PFeHu4YxVVR_nqrkL/view?usp=sharing)\n",
    "  - Or you can manually download the zip from google drive (or from [kaggle datasets](https://www.kaggle.com/brunomsantiago/subsea-inpainting-dataset)) and then upload to your google drive.\n",
    "  - In both cases the zip should be be at your google drive root.\n",
    "- Unizp the dataset using the commented code below\n",
    "- You have to unzip this only once, therefore the cell bellow is commented by default"
   ]
  },
  {
   "cell_type": "code",
   "execution_count": null,
   "metadata": {
    "id": "dZWNnJTMseBH"
   },
   "outputs": [],
   "source": [
    "# %%bash\n",
    "# cd drive/MyDrive\n",
    "# mkdir subsea_inpainting\n",
    "# unzip subsea_inpainting_dataset.zip -d subsea_inpainting/dataset"
   ]
  },
  {
   "cell_type": "markdown",
   "metadata": {
    "id": "BEzCsCDNp6oq"
   },
   "source": [
    "## 1.3. Install [viajen](https://github.com/brunomsantiago/viajen) for animation visualization"
   ]
  },
  {
   "cell_type": "code",
   "execution_count": null,
   "metadata": {
    "id": "IMMOCkp0p6os"
   },
   "outputs": [],
   "source": [
    "!pip install viajen"
   ]
  },
  {
   "cell_type": "markdown",
   "metadata": {},
   "source": [
    "## 1.4. Download deepfill code and models from [subsea inpainting repository](https://github.com/brunomsantiago/subsea_inpainting)\n",
    "- You have to download this only once, therefore the cell bellow is commented by default"
   ]
  },
  {
   "cell_type": "code",
   "execution_count": null,
   "metadata": {},
   "outputs": [],
   "source": [
    "# %%bash\n",
    "# cd drive/MyDrive/subsea_inpainting\n",
    "# git clone https://github.com/brunomsantiago/subsea_inpainting --branch models"
   ]
  },
  {
   "cell_type": "markdown",
   "metadata": {},
   "source": [
    "## 1.5 Choose older tensorflow version"
   ]
  },
  {
   "cell_type": "code",
   "execution_count": null,
   "metadata": {},
   "outputs": [],
   "source": [
    "%tensorflow_version 1.x"
   ]
  },
  {
   "cell_type": "markdown",
   "metadata": {
    "id": "Tkz5gL-mp6os"
   },
   "source": [
    "## 1.6. Normal imports"
   ]
  },
  {
   "cell_type": "code",
   "execution_count": null,
   "metadata": {
    "id": "3FT2lGLdp6ot"
   },
   "outputs": [],
   "source": [
    "# Standard Library imports\n",
    "from pathlib import Path\n",
    "import time\n",
    "import sys\n",
    "\n",
    "# Third party imports\n",
    "import cv2\n",
    "from IPython.core.display import HTML\n",
    "import numpy as np\n",
    "from PIL import Image\n",
    "import tensorflow as tf\n",
    "from viajen import animate"
   ]
  },
  {
   "cell_type": "markdown",
   "metadata": {},
   "source": [
    "## 1.7 Local import (non-installed module)"
   ]
  },
  {
   "cell_type": "code",
   "execution_count": null,
   "metadata": {},
   "outputs": [],
   "source": [
    "base_models_folder = Path('/content/drive/MyDrive/subsea_inpainting/subsea_inpainting')\n",
    "model_code_folder = base_models_folder / 'code' / 'hifill'\n",
    "sys.path.insert(1, model_code_folder.as_posix())\n",
    "from hifill import inpaint"
   ]
  },
  {
   "cell_type": "markdown",
   "metadata": {
    "id": "BN8rzXucp6ou"
   },
   "source": [
    "# 2. Frames to be inpainted (+ masks)"
   ]
  },
  {
   "cell_type": "markdown",
   "metadata": {
    "id": "-7Puswvrp6ou"
   },
   "source": [
    "## 2.1. Select clip to work with"
   ]
  },
  {
   "cell_type": "code",
   "execution_count": null,
   "metadata": {
    "id": "weGWRpzyp6ov"
   },
   "outputs": [],
   "source": [
    "data_name = '01a'\n",
    "# data_name = '01b'\n",
    "# data_name = '01c'\n",
    "# data_name = '02a'\n",
    "# data_name = '03a'\n",
    "# data_name = '03b'\n",
    "# data_name = '04a'\n",
    "# data_name = '05a'\n",
    "# data_name = '05b'\n",
    "# data_name = '05c'\n",
    "# data_name = '05d'\n",
    "# data_name = '05e'\n",
    "# data_name = '05f'"
   ]
  },
  {
   "cell_type": "markdown",
   "metadata": {
    "id": "dl_t0FMxp6ov"
   },
   "source": [
    "## 2.2. Mount folders"
   ]
  },
  {
   "cell_type": "code",
   "execution_count": null,
   "metadata": {
    "id": "yGHvGCJMp6ow"
   },
   "outputs": [],
   "source": [
    "method = 'hifill'\n",
    "base_input_folder = '/content/drive/MyDrive/subsea_inpainting/dataset'\n",
    "base_output_folder = '/content/drive/MyDrive/subsea_inpainting/results/static'\n",
    "\n",
    "frames_folder = Path(base_input_folder) / 'prepared_images' / data_name / 'frames'\n",
    "masks_folder = Path(base_input_folder) / 'prepared_images' / data_name / 'masks'\n",
    "\n",
    "results_folder = Path(base_output_folder) / data_name / method"
   ]
  },
  {
   "cell_type": "markdown",
   "metadata": {
    "id": "UXS9Vt3Wp6ox"
   },
   "source": [
    "## 2.3. View clip"
   ]
  },
  {
   "cell_type": "code",
   "execution_count": null,
   "metadata": {
    "id": "ilyMTVFtp6oy"
   },
   "outputs": [],
   "source": [
    "animate.folder(frames_folder, max_height=200)"
   ]
  },
  {
   "cell_type": "code",
   "execution_count": null,
   "metadata": {
    "id": "O3_OGEIup6oy"
   },
   "outputs": [],
   "source": [
    "animate.folder(masks_folder, max_height=200)"
   ]
  },
  {
   "cell_type": "markdown",
   "metadata": {
    "id": "wUw4nD1tp6oz"
   },
   "source": [
    "# 3. Inpaiting"
   ]
  },
  {
   "cell_type": "markdown",
   "metadata": {},
   "source": [
    "## 3.1 Weights locations"
   ]
  },
  {
   "cell_type": "code",
   "execution_count": null,
   "metadata": {},
   "outputs": [],
   "source": [
    "hifill_weights = base_models_folder / 'models_weights' / 'hifill' / 'hifill.pb'\n",
    "hifill_weights = hifill_weights.as_posix()"
   ]
  },
  {
   "cell_type": "markdown",
   "metadata": {
    "id": "iC6OBAKpp6oz"
   },
   "source": [
    "## 3.2. Function to apply inpainting"
   ]
  },
  {
   "cell_type": "code",
   "execution_count": null,
   "metadata": {
    "id": "W1ImRTcrp6oz"
   },
   "outputs": [],
   "source": [
    "def inpaint_hifill(frames_folder, masks_folder, out_folder, model_path):\n",
    "    start_time = time.time()\n",
    "    print('Starting...')\n",
    "    frames_files = sorted(Path(frames_folder).glob('*.png'))\n",
    "    masks_files = sorted(Path(masks_folder).glob('*.png'))\n",
    "    out_folder.mkdir(parents=True, exist_ok=True)\n",
    "    \n",
    "    with tf.Graph().as_default():\n",
    "        with open(model_path, 'rb') as f:\n",
    "            output_graph_def = tf.GraphDef()\n",
    "            graph_string = f.read()\n",
    "            output_graph_def.ParseFromString(graph_string)\n",
    "            tf.import_graph_def(output_graph_def, name=\"\")\n",
    "\n",
    "        with tf.Session() as sess:\n",
    "            init = tf.global_variables_initializer()\n",
    "            sess.run(init)\n",
    "            image_ph = sess.graph.get_tensor_by_name('img:0')\n",
    "            mask_ph = sess.graph.get_tensor_by_name('mask:0')\n",
    "            inpainted_512_node = sess.graph.get_tensor_by_name('inpainted:0')\n",
    "            attention_node = sess.graph.get_tensor_by_name('attention:0')\n",
    "            mask_512_node = sess.graph.get_tensor_by_name('mask_processed:0')\n",
    "\n",
    "            for frame_file, mask_file in zip(frames_files, masks_files):\n",
    "                print(frame_file.name)\n",
    "                frame = cv2.imread(frame_file.as_posix())\n",
    "                mask = cv2.imread(mask_file.as_posix())\n",
    "                mask = 255 - mask\n",
    "                inpainted_frame = inpaint(frame,\n",
    "                                        mask,\n",
    "                                        sess,\n",
    "                                        inpainted_512_node,\n",
    "                                        attention_node,\n",
    "                                        mask_512_node,\n",
    "                                        image_ph,\n",
    "                                        mask_ph,\n",
    "                                        6)\n",
    "                filepath = (out_folder / frame_file.name).as_posix()\n",
    "                cv2.imwrite(filepath, inpainted_frame)\n",
    "    return time.time() - start_time"
   ]
  },
  {
   "cell_type": "markdown",
   "metadata": {
    "id": "np-TPp1PxqNu"
   },
   "source": [
    "## 3.3. Execute inpainting"
   ]
  },
  {
   "cell_type": "code",
   "execution_count": null,
   "metadata": {
    "id": "_SxSbsPFp6o0"
   },
   "outputs": [],
   "source": [
    "execution_time = inpaint_hifill(frames_folder,\n",
    "                                masks_folder,\n",
    "                                results_folder,\n",
    "                                hifill_weights)\n",
    "\n",
    "print(f'\\n\\n--- Execution time: {execution_time:.2f} seconds ---')"
   ]
  },
  {
   "cell_type": "markdown",
   "metadata": {
    "id": "esST3Azkp6o0"
   },
   "source": [
    "# 4. Show results"
   ]
  },
  {
   "cell_type": "code",
   "execution_count": null,
   "metadata": {
    "id": "5JElztqYp6o0"
   },
   "outputs": [],
   "source": [
    "display(HTML('<h2>Original Frames<h2>'))\n",
    "display(animate.folder(frames_folder))\n",
    "\n",
    "display(HTML(f'<br><br><h2>Inpainted Frames ({execution_time:.1f} seconds processing)<h2>'))\n",
    "display(animate.folder(results_folder))"
   ]
  }
 ],
 "metadata": {
  "colab": {
   "collapsed_sections": [],
   "name": "colab-subsea-inpainting-03-hifill.ipynb",
   "provenance": []
  },
  "kernelspec": {
   "display_name": "Python 3",
   "language": "python",
   "name": "python3"
  },
  "language_info": {
   "codemirror_mode": {
    "name": "ipython",
    "version": 3
   },
   "file_extension": ".py",
   "mimetype": "text/x-python",
   "name": "python",
   "nbconvert_exporter": "python",
   "pygments_lexer": "ipython3",
   "version": "3.7.4"
  }
 },
 "nbformat": 4,
 "nbformat_minor": 1
}
