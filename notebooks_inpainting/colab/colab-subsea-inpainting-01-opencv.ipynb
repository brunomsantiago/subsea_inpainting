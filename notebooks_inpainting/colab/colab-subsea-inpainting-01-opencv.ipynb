{
 "cells": [
  {
   "cell_type": "markdown",
   "metadata": {
    "id": "AmJg_MqKp6og"
   },
   "source": [
    "# Subsea Inpanting using OpenCV"
   ]
  },
  {
   "cell_type": "markdown",
   "metadata": {
    "id": "7jI8w9pap6op"
   },
   "source": [
    "# 1. Setup"
   ]
  },
  {
   "cell_type": "markdown",
   "metadata": {
    "id": "1iaKiqnUuWf0"
   },
   "source": [
    "## 1.1. Mount your google drive"
   ]
  },
  {
   "cell_type": "code",
   "execution_count": null,
   "metadata": {
    "id": "shCkQjhuuWAC"
   },
   "outputs": [],
   "source": [
    "from google.colab import drive\n",
    "drive.mount('/content/drive')"
   ]
  },
  {
   "cell_type": "markdown",
   "metadata": {
    "id": "J5iOptTJqA0-"
   },
   "source": [
    "## 1.2. Link the dataset to your google drive\n",
    "- You can link from [my google drive](https://drive.google.com/file/d/1OaTLKxkgKlAXMD4PFeHu4YxVVR_nqrkL/view?usp=sharing)\n",
    "  - Or you can manually download the zip from google drive (or from [kaggle datasets](https://www.kaggle.com/brunomsantiago/subsea-inpainting-dataset)) and then upload to your google drive.\n",
    "  - In both cases the zip should be be at your google drive root.\n",
    "- Unizp the dataset using the commented code below\n",
    "- You have to unzip this only once, therefore the cell bellow is commented by default"
   ]
  },
  {
   "cell_type": "code",
   "execution_count": null,
   "metadata": {
    "id": "dZWNnJTMseBH"
   },
   "outputs": [],
   "source": [
    "# %%bash\n",
    "# cd drive/MyDrive\n",
    "# mkdir subsea_inpainting\n",
    "# unzip subsea_inpainting_dataset.zip -d subsea_inpainting/dataset"
   ]
  },
  {
   "cell_type": "markdown",
   "metadata": {
    "id": "BEzCsCDNp6oq"
   },
   "source": [
    "## 1.3. Install [viajen](https://github.com/brunomsantiago/viajen) for animation visualization"
   ]
  },
  {
   "cell_type": "code",
   "execution_count": null,
   "metadata": {
    "id": "IMMOCkp0p6os"
   },
   "outputs": [],
   "source": [
    "!pip install viajen"
   ]
  },
  {
   "cell_type": "markdown",
   "metadata": {
    "id": "Tkz5gL-mp6os"
   },
   "source": [
    "## 1.4. Imports"
   ]
  },
  {
   "cell_type": "code",
   "execution_count": null,
   "metadata": {
    "id": "3FT2lGLdp6ot"
   },
   "outputs": [],
   "source": [
    "# Standard Library imports\n",
    "from pathlib import Path\n",
    "import time\n",
    "\n",
    "# Third party imports\n",
    "import cv2\n",
    "from IPython.core.display import HTML\n",
    "import numpy as np\n",
    "from PIL import Image\n",
    "from viajen import animate"
   ]
  },
  {
   "cell_type": "markdown",
   "metadata": {
    "id": "BN8rzXucp6ou"
   },
   "source": [
    "# 2. Frames to be inpainted (+ masks)"
   ]
  },
  {
   "cell_type": "markdown",
   "metadata": {
    "id": "-7Puswvrp6ou"
   },
   "source": [
    "## 2.1. Select clip to work with"
   ]
  },
  {
   "cell_type": "code",
   "execution_count": null,
   "metadata": {
    "id": "weGWRpzyp6ov"
   },
   "outputs": [],
   "source": [
    "data_name = '01a'\n",
    "# data_name = '01b'\n",
    "# data_name = '01c'\n",
    "# data_name = '02a'\n",
    "# data_name = '03a'\n",
    "# data_name = '03b'\n",
    "# data_name = '04a'\n",
    "# data_name = '05a'\n",
    "# data_name = '05b'\n",
    "# data_name = '05c'\n",
    "# data_name = '05d'\n",
    "# data_name = '05e'\n",
    "# data_name = '05f'"
   ]
  },
  {
   "cell_type": "markdown",
   "metadata": {
    "id": "dl_t0FMxp6ov"
   },
   "source": [
    "## 2.2. Mount folders"
   ]
  },
  {
   "cell_type": "code",
   "execution_count": null,
   "metadata": {
    "id": "yGHvGCJMp6ow"
   },
   "outputs": [],
   "source": [
    "method = 'opencv'\n",
    "base_input_folder = '/content/drive/MyDrive/subsea_inpainting/dataset'\n",
    "base_output_folder = '/content/drive/MyDrive/subsea_inpainting/results/static'\n",
    "\n",
    "frames_folder = Path(base_input_folder) / 'prepared_images' / data_name / 'frames'\n",
    "masks_folder = Path(base_input_folder) / 'prepared_images' / data_name / 'masks'\n",
    "\n",
    "results_folder = Path(base_output_folder) / data_name / method"
   ]
  },
  {
   "cell_type": "markdown",
   "metadata": {
    "id": "UXS9Vt3Wp6ox"
   },
   "source": [
    "## 2.3. View clip"
   ]
  },
  {
   "cell_type": "code",
   "execution_count": null,
   "metadata": {
    "id": "ilyMTVFtp6oy"
   },
   "outputs": [],
   "source": [
    "animate.folder(frames_folder, max_height=200)"
   ]
  },
  {
   "cell_type": "code",
   "execution_count": null,
   "metadata": {
    "id": "O3_OGEIup6oy"
   },
   "outputs": [],
   "source": [
    "animate.folder(masks_folder, max_height=200)"
   ]
  },
  {
   "cell_type": "markdown",
   "metadata": {
    "id": "wUw4nD1tp6oz"
   },
   "source": [
    "# 3. Inpaiting"
   ]
  },
  {
   "cell_type": "markdown",
   "metadata": {
    "id": "iC6OBAKpp6oz"
   },
   "source": [
    "## 3.1. Function to inpaint with OpenCV"
   ]
  },
  {
   "cell_type": "code",
   "execution_count": null,
   "metadata": {
    "id": "W1ImRTcrp6oz"
   },
   "outputs": [],
   "source": [
    "def inpaint_opencv(frames_folder, masks_folder, out_folder):\n",
    "    start_time = time.time()    \n",
    "    frames_files = sorted(Path(frames_folder).glob('*.png'))\n",
    "    masks_files = sorted(Path(masks_folder).glob('*.png'))\n",
    "    out_folder.mkdir(parents=True, exist_ok=True)\n",
    "    for frame_file, mask_file in zip(frames_files, masks_files):\n",
    "        frame = cv2.imread(frame_file.as_posix())\n",
    "        mask = cv2.imread(mask_file.as_posix())\n",
    "        mask = cv2.cvtColor(mask, cv2.COLOR_BGR2GRAY)\n",
    "        inpainted_frame = cv2.inpaint(frame, mask, 3, cv2.INPAINT_NS)\n",
    "        inpainted_frame = np.uint8(inpainted_frame)\n",
    "        inpainted_frame = inpainted_frame[:, :, ::-1].copy()\n",
    "        filepath = out_folder/ frame_file.name\n",
    "        Image.fromarray(inpainted_frame).save(filepath)\n",
    "    return time.time() - start_time"
   ]
  },
  {
   "cell_type": "markdown",
   "metadata": {
    "id": "np-TPp1PxqNu"
   },
   "source": [
    "## 3.2. Execute inpainting"
   ]
  },
  {
   "cell_type": "code",
   "execution_count": null,
   "metadata": {
    "id": "_SxSbsPFp6o0"
   },
   "outputs": [],
   "source": [
    "execution_time = inpaint_opencv(frames_folder, masks_folder, results_folder)\n",
    "print(f'--- Execution time: {execution_time:.2f} seconds ---')"
   ]
  },
  {
   "cell_type": "markdown",
   "metadata": {
    "id": "esST3Azkp6o0"
   },
   "source": [
    "# 4. Show results"
   ]
  },
  {
   "cell_type": "code",
   "execution_count": null,
   "metadata": {
    "id": "5JElztqYp6o0"
   },
   "outputs": [],
   "source": [
    "display(HTML('<h2>Original Frames<h2>'))\n",
    "display(animate.folder(frames_folder))\n",
    "\n",
    "display(HTML(f'<br><br><h2>Inpainted Frames ({execution_time:.1f} seconds processing)<h2>'))\n",
    "display(animate.folder(results_folder))"
   ]
  }
 ],
 "metadata": {
  "colab": {
   "collapsed_sections": [],
   "name": "subsea-inpainting-01-opencv.ipynb",
   "provenance": []
  },
  "kernelspec": {
   "display_name": "Python 3",
   "language": "python",
   "name": "python3"
  },
  "language_info": {
   "codemirror_mode": {
    "name": "ipython",
    "version": 3
   },
   "file_extension": ".py",
   "mimetype": "text/x-python",
   "name": "python",
   "nbconvert_exporter": "python",
   "pygments_lexer": "ipython3",
   "version": "3.7.4"
  }
 },
 "nbformat": 4,
 "nbformat_minor": 1
}
