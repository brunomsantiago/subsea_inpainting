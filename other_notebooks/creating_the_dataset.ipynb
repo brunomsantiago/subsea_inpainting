{
 "cells": [
  {
   "cell_type": "markdown",
   "metadata": {},
   "source": [
    "# This notebook was used to create the subsea inpainting dataset"
   ]
  },
  {
   "cell_type": "markdown",
   "metadata": {},
   "source": [
    "### Imports"
   ]
  },
  {
   "cell_type": "code",
   "execution_count": null,
   "metadata": {},
   "outputs": [],
   "source": [
    "import cv2\n",
    "import matplotlib.pyplot as plt\n",
    "from pathlib import Path\n",
    "from PIL import Image\n",
    "import shutil\n",
    "from tqdm import tqdm"
   ]
  },
  {
   "cell_type": "markdown",
   "metadata": {},
   "source": [
    "### Code to extract frames from videos"
   ]
  },
  {
   "cell_type": "code",
   "execution_count": null,
   "metadata": {},
   "outputs": [],
   "source": [
    "class Video:\n",
    "    def __init__(self, filepath):\n",
    "        self._filepath = Path(filepath)\n",
    "        self._cap = cv2.VideoCapture(filepath.as_posix())\n",
    "        self._video_info()\n",
    "        \n",
    "    def _video_info(self):\n",
    "        self._total_frames = int(self._cap.get(cv2.CAP_PROP_FRAME_COUNT))\n",
    "        self._frame_rate = self._cap.get(cv2.CAP_PROP_FPS)\n",
    "        # Duration in seconds\n",
    "        self._duration = self._total_frames / self._frame_rate\n",
    "        \n",
    "    def __repr__(self):\n",
    "        s = []\n",
    "        s.append(f'Video file: {self._filepath.name}')\n",
    "        s.append(f'Total Frames: {self._total_frames}')\n",
    "        s.append(f'Frame Rate: {self._frame_rate:.2f} frames per second')\n",
    "        s.append(f'Duration: {self._duration:.1f} seconds')\n",
    "        return '\\n'.join(s)\n",
    "    \n",
    "    def save_frames(self, output_folder, max_frames=None):\n",
    "        output_folder = Path(output_folder)\n",
    "        output_folder.mkdir(parents=True, exist_ok=True)\n",
    "        base_name = self._filepath.name.split('.')[0]\n",
    "        frames_to_extract = max_frames if max_frames else self._total_frames\n",
    "        for frame_index in tqdm(range(frames_to_extract)):\n",
    "            self._cap.set(cv2.CAP_PROP_POS_FRAMES, frame_index)\n",
    "            success, frame = self._cap.read()\n",
    "            if success:\n",
    "                filename = f'{base_name}_{frame_index:07d}.png'\n",
    "                filepath = (output_folder / filename).as_posix()\n",
    "                cv2.imwrite(filepath, frame)\n",
    "            "
   ]
  },
  {
   "cell_type": "markdown",
   "metadata": {},
   "source": [
    "# Step 1: Choose a video, pick a letter for the clip name and run the code cells below to extract the frames"
   ]
  },
  {
   "cell_type": "code",
   "execution_count": null,
   "metadata": {},
   "outputs": [],
   "source": [
    "video_name = '05'\n",
    "clip_name = video_name + 'f'\n",
    "\n",
    "base_folder = '/home/bms/devops/subsea_inpainting/dataset'\n",
    "video_input_folder = Path(base_folder) / 'original_videos' / video_name\n",
    "frames_outuput_folder = Path(base_folder) / 'prepared_images' / clip_name / 'frames'"
   ]
  },
  {
   "cell_type": "code",
   "execution_count": null,
   "metadata": {},
   "outputs": [],
   "source": [
    "video_filepath = list(video_input_folder.glob('*.mp4'))[0]\n",
    "print(video_filepath)"
   ]
  },
  {
   "cell_type": "code",
   "execution_count": null,
   "metadata": {},
   "outputs": [],
   "source": [
    "video = Video(video_filepath)\n",
    "video"
   ]
  },
  {
   "cell_type": "code",
   "execution_count": null,
   "metadata": {},
   "outputs": [],
   "source": [
    "video.save_frames(frames_outuput_folder, max_frames=500)"
   ]
  },
  {
   "cell_type": "markdown",
   "metadata": {},
   "source": [
    "# Step 2: Delete unwanted frames from folder\n",
    " * Use any image visualization software to choose which frames to delete. I used Xviewer\n",
    " \n",
    "# Step 3: Draw a mask template on an external software\n",
    " * Use any image editing software with layer support to that. I used GIMP.\n",
    " * White pixels means inpaint. Black pixels means keep content.\n",
    " \n",
    "# Step 4: Run the code below to copy the mask template\n",
    " * Some inpainting methods needs one mask file per frame file, even if the mask is the same"
   ]
  },
  {
   "cell_type": "code",
   "execution_count": null,
   "metadata": {},
   "outputs": [],
   "source": [
    "mask_template_folder = Path(base_folder) / 'prepared_images' / clip_name / 'mask_template'\n",
    "frames_folder = Path(base_folder) / 'prepared_images' / clip_name / 'frames'\n",
    "masks_folder = Path(base_folder) / 'prepared_images' / clip_name / 'masks'"
   ]
  },
  {
   "cell_type": "code",
   "execution_count": null,
   "metadata": {},
   "outputs": [],
   "source": [
    "mask_template_folder"
   ]
  },
  {
   "cell_type": "code",
   "execution_count": null,
   "metadata": {},
   "outputs": [],
   "source": [
    "template_filepath = list(mask_template_folder.glob('*.png'))[0]\n",
    "print(template_filepath)"
   ]
  },
  {
   "cell_type": "code",
   "execution_count": null,
   "metadata": {},
   "outputs": [],
   "source": [
    "masks_folder.mkdir(parents=True, exist_ok=True)\n",
    "\n",
    "for frame in tqdm(frames_folder.glob('*.png')):\n",
    "    mask_filepath = masks_folder / frame.name\n",
    "    shutil.copy(template_filepath, mask_filepath)"
   ]
  }
 ],
 "metadata": {
  "kernelspec": {
   "display_name": "Python [conda env:data_science_38]",
   "language": "python",
   "name": "conda-env-data_science_38-py"
  },
  "language_info": {
   "codemirror_mode": {
    "name": "ipython",
    "version": 3
   },
   "file_extension": ".py",
   "mimetype": "text/x-python",
   "name": "python",
   "nbconvert_exporter": "python",
   "pygments_lexer": "ipython3",
   "version": "3.8.5"
  }
 },
 "nbformat": 4,
 "nbformat_minor": 4
}
